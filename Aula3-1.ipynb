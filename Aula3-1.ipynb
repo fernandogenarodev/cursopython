{
 "cells": [
  {
   "cell_type": "code",
   "execution_count": null,
   "metadata": {},
   "outputs": [],
   "source": []
  },
  {
   "cell_type": "markdown",
   "metadata": {},
   "source": [
    "Aula de condicionais"
   ]
  },
  {
   "cell_type": "markdown",
   "metadata": {},
   "source": [
    "--Importancia de condicionais.\n",
    "\n",
    "As condicionais estão entrelaçadas com a lógica de programação, pois você executa comandos a partir de condições que são atribuídas de acordo com variáveis estabelecidas."
   ]
  },
  {
   "cell_type": "markdown",
   "metadata": {},
   "source": [
    "Exemplo::"
   ]
  },
  {
   "cell_type": "code",
   "execution_count": 54,
   "metadata": {},
   "outputs": [
    {
     "ename": "ValueError",
     "evalue": "could not convert string to float: ''",
     "output_type": "error",
     "traceback": [
      "\u001b[1;31m---------------------------------------------------------------------------\u001b[0m",
      "\u001b[1;31mValueError\u001b[0m                                Traceback (most recent call last)",
      "\u001b[1;32mUntitled-1.ipynb Célula 5\u001b[0m line \u001b[0;36m3\n\u001b[0;32m      <a href='vscode-notebook-cell:Untitled-1.ipynb?jupyter-notebook#W4sdW50aXRsZWQ%3D?line=0'>1</a>\u001b[0m \u001b[39m#float\u001b[39;00m\n\u001b[1;32m----> <a href='vscode-notebook-cell:Untitled-1.ipynb?jupyter-notebook#W4sdW50aXRsZWQ%3D?line=2'>3</a>\u001b[0m idade \u001b[39m=\u001b[39m \u001b[39mfloat\u001b[39;49m(\u001b[39minput\u001b[39;49m(\u001b[39mf\u001b[39;49m\u001b[39m'\u001b[39;49m\u001b[39mdigite sua idade\u001b[39;49m\u001b[39m'\u001b[39;49m))\n\u001b[0;32m      <a href='vscode-notebook-cell:Untitled-1.ipynb?jupyter-notebook#W4sdW50aXRsZWQ%3D?line=3'>4</a>\u001b[0m \u001b[39mif\u001b[39;00m idade \u001b[39m>\u001b[39m\u001b[39m=\u001b[39m \u001b[39m18\u001b[39m:\n\u001b[0;32m      <a href='vscode-notebook-cell:Untitled-1.ipynb?jupyter-notebook#W4sdW50aXRsZWQ%3D?line=4'>5</a>\u001b[0m     \u001b[39mprint\u001b[39m(\u001b[39m'\u001b[39m\u001b[39mVocê é de maior\u001b[39m\u001b[39m'\u001b[39m)\n",
      "\u001b[1;31mValueError\u001b[0m: could not convert string to float: ''"
     ]
    }
   ],
   "source": [
    "#float\n",
    "\n",
    "idade = float(input(f'digite sua idade'))\n",
    "if idade >= 18:\n",
    "    print('Você é de maior')\n",
    "else:\n",
    "    print('Você é de menor')\n"
   ]
  },
  {
   "cell_type": "code",
   "execution_count": null,
   "metadata": {},
   "outputs": [
    {
     "name": "stdout",
     "output_type": "stream",
     "text": [
      "Acesso liberado\n"
     ]
    }
   ],
   "source": [
    "#string\n",
    "\n",
    "senha = 'Fe@2023@Ge'\n",
    "senha2 = input('Digite a sua senha')\n",
    "if senha2 == senha:\n",
    "    print('Acesso liberado')\n",
    "else:\n",
    "    print('Acesso negado')"
   ]
  },
  {
   "cell_type": "code",
   "execution_count": null,
   "metadata": {},
   "outputs": [
    {
     "name": "stdout",
     "output_type": "stream",
     "text": [
      "Vou ficar para trás\n"
     ]
    }
   ],
   "source": [
    "#boleano\n",
    "\n",
    "CurtoPrograma =  False\n",
    "if CurtoPrograma:\n",
    "    print('Sou atualizado')\n",
    "else:\n",
    "    print('Vou ficar para trás')\n"
   ]
  },
  {
   "cell_type": "markdown",
   "metadata": {},
   "source": [
    "#Como funcionam as condicionais\n",
    "\n",
    "É intuítivo, pode pensar pelo Português"
   ]
  },
  {
   "cell_type": "code",
   "execution_count": null,
   "metadata": {},
   "outputs": [
    {
     "name": "stdout",
     "output_type": "stream",
     "text": [
      "0\n"
     ]
    }
   ],
   "source": [
    "#Exemplo :: Deixe um recado / SE voce não me encontrar em casa\n",
    "#1 Oraçção principal -  Deixe um recado / \n",
    "#2 Oração condicional - SE voce não me encontrar em casa\n",
    "\n",
    "Estouemcasa = True\n",
    "CaixaPostal = 0\n",
    "\n",
    "if Estouemcasa == False:\n",
    "    CaixaPostal = CaixaPostal + 1\n",
    "print(CaixaPostal)\n",
    "\n"
   ]
  },
  {
   "cell_type": "code",
   "execution_count": null,
   "metadata": {},
   "outputs": [
    {
     "name": "stdout",
     "output_type": "stream",
     "text": [
      "1\n"
     ]
    }
   ],
   "source": [
    "Estouemcasa = False\n",
    "CaixaPostal = 0\n",
    "\n",
    "if Estouemcasa == False:\n",
    "    CaixaPostal = CaixaPostal + 1\n",
    "print(CaixaPostal)\n"
   ]
  },
  {
   "cell_type": "code",
   "execution_count": null,
   "metadata": {},
   "outputs": [
    {
     "name": "stdout",
     "output_type": "stream",
     "text": [
      "0\n"
     ]
    }
   ],
   "source": [
    "Estouemcasa = True\n",
    "CaixaPostal = 0\n",
    "\n",
    "if Estouemcasa == False:\n",
    "    CaixaPostal = CaixaPostal + 1\n",
    "print(CaixaPostal)\n"
   ]
  },
  {
   "cell_type": "markdown",
   "metadata": {},
   "source": [
    "# Blocos de condições a serem executados sob condições verdadeiras/falsas e contiuar o código..\n",
    "\n",
    "Operadores aritméticos\n",
    "\n",
    "Soma -> +\n",
    "Subtração -> -\n",
    "Multiplicação -> *\n",
    "Divisão -> /\n",
    "Divisão inteira -> //\n",
    "Resto Divisão -> %\n",
    "Potencialização -> **\n",
    "\n"
   ]
  },
  {
   "cell_type": "code",
   "execution_count": null,
   "metadata": {},
   "outputs": [
    {
     "name": "stdout",
     "output_type": "stream",
     "text": [
      "9\n",
      "4\n",
      "2\n",
      "27\n",
      "2.0\n"
     ]
    }
   ],
   "source": [
    "Multiplicar = 3*3\n",
    "DiviInt = 30//7\n",
    "Resto =  30%7\n",
    "Potencia = 3**3\n",
    "Radiaciação = 4**(1/2) \n",
    "print(Multiplicar)\n",
    "print(DiviInt)\n",
    "print(Resto)\n",
    "print(Potencia)\n",
    "print(Radiaciação)\n"
   ]
  },
  {
   "cell_type": "markdown",
   "metadata": {},
   "source": [
    "#Operadores comparativos\n",
    "\n",
    "Maior >\n",
    "Menor <\n",
    "Maior igual >=\n",
    "Menor igual <=\n",
    "igual ==\n",
    "Diferente !=\n",
    "\n",
    "#Operadores lógicos\n",
    "Or: ou(inclusivo, um, o outro ou os 2)\n",
    "And: E(tem que ser os 2)\n",
    "Not: negação(inverte o valor de uma expressão)\n",
    "\n",
    "\n",
    "\n"
   ]
  },
  {
   "cell_type": "code",
   "execution_count": null,
   "metadata": {},
   "outputs": [
    {
     "ename": "NameError",
     "evalue": "name 'X' is not defined",
     "output_type": "error",
     "traceback": [
      "\u001b[1;31m---------------------------------------------------------------------------\u001b[0m",
      "\u001b[1;31mNameError\u001b[0m                                 Traceback (most recent call last)",
      "\u001b[1;32mUntitled-1.ipynb Célula 15\u001b[0m line \u001b[0;36m5\n\u001b[0;32m      <a href='vscode-notebook-cell:Untitled-1.ipynb?jupyter-notebook#X22sdW50aXRsZWQ%3D?line=0'>1</a>\u001b[0m \u001b[39m#Exemplo, vamos selecionar o conjunto de pontos do plano cartesiano que englobam um quadrado de vértices\u001b[39;00m\n\u001b[0;32m      <a href='vscode-notebook-cell:Untitled-1.ipynb?jupyter-notebook#X22sdW50aXRsZWQ%3D?line=1'>2</a>\u001b[0m \u001b[39m#A(0,0) B(1,0) C(1,1) D(0,1) de dois jeitos\u001b[39;00m\n\u001b[0;32m      <a href='vscode-notebook-cell:Untitled-1.ipynb?jupyter-notebook#X22sdW50aXRsZWQ%3D?line=2'>3</a>\u001b[0m \u001b[39m#Usando And\u001b[39;00m\n\u001b[1;32m----> <a href='vscode-notebook-cell:Untitled-1.ipynb?jupyter-notebook#X22sdW50aXRsZWQ%3D?line=4'>5</a>\u001b[0m (\u001b[39m0\u001b[39m\u001b[39m<\u001b[39m\u001b[39m=\u001b[39mX) \n",
      "\u001b[1;31mNameError\u001b[0m: name 'X' is not defined"
     ]
    }
   ],
   "source": [
    "#Exemplo, vamos selecionar o conjunto de pontos do plano cartesiano que englobam um quadrado de vértices\n",
    "#A(0,0) B(1,0) C(1,1) D(0,1) de dois jeitos\n",
    "#Usando And\n"
   ]
  },
  {
   "cell_type": "code",
   "execution_count": null,
   "metadata": {},
   "outputs": [
    {
     "ename": "NameError",
     "evalue": "name 'X' is not defined",
     "output_type": "error",
     "traceback": [
      "\u001b[1;31m---------------------------------------------------------------------------\u001b[0m",
      "\u001b[1;31mNameError\u001b[0m                                 Traceback (most recent call last)",
      "\u001b[1;32mUntitled-1.ipynb Célula 16\u001b[0m line \u001b[0;36m1\n\u001b[1;32m----> <a href='vscode-notebook-cell:Untitled-1.ipynb?jupyter-notebook#X23sdW50aXRsZWQ%3D?line=0'>1</a>\u001b[0m (\u001b[39m0\u001b[39m \u001b[39m<\u001b[39m\u001b[39m=\u001b[39m X) \u001b[39mand\u001b[39;00m (X \u001b[39m<\u001b[39m\u001b[39m=\u001b[39m \u001b[39m1\u001b[39m) \u001b[39mand\u001b[39;00m (\u001b[39m0\u001b[39m \u001b[39m<\u001b[39m\u001b[39m=\u001b[39m Y) \u001b[39mand\u001b[39;00m (y \u001b[39m<\u001b[39m\u001b[39m=\u001b[39m \u001b[39m1\u001b[39m)\n",
      "\u001b[1;31mNameError\u001b[0m: name 'X' is not defined"
     ]
    }
   ],
   "source": [
    "#Usando And\n",
    "(0 <= X) and (X <= 1) and (0 <= Y) and (y <= 1)"
   ]
  },
  {
   "cell_type": "code",
   "execution_count": null,
   "metadata": {},
   "outputs": [],
   "source": [
    "#Usando o Or e o And\n",
    "not ((X<0) or (X>1) or (Y<0) or (Y>1)"
   ]
  },
  {
   "cell_type": "markdown",
   "metadata": {},
   "source": [
    "#Operadores de associação (in, not in)\n",
    "\n",
    "-- Servem para trabalhar com um conjunto de informações, como listas, tuplas, dicionarios, até strings. \n",
    "Ele verificam se uma variável está, ou não está em determinada sequencia de valores.\n",
    "\n",
    "#Operadores de identidade (is, is not)\n",
    "-- Servem para verificar se 2 objetos tem a mesma identidade, se ocupam o mesmo espaço da memória.\n",
    "\n",
    "#Uso de If, Elif, Else\n"
   ]
  },
  {
   "cell_type": "markdown",
   "metadata": {},
   "source": [
    "Ao usar IF, atribuimos uma condição e depois comandos a serem executados caso a condição seja verdadeira."
   ]
  },
  {
   "cell_type": "code",
   "execution_count": null,
   "metadata": {},
   "outputs": [
    {
     "ename": "SyntaxError",
     "evalue": "invalid syntax (231113174.py, line 3)",
     "output_type": "error",
     "traceback": [
      "\u001b[1;36m  Cell \u001b[1;32mIn[30], line 3\u001b[1;36m\u001b[0m\n\u001b[1;33m    comando 1\u001b[0m\n\u001b[1;37m            ^\u001b[0m\n\u001b[1;31mSyntaxError\u001b[0m\u001b[1;31m:\u001b[0m invalid syntax\n"
     ]
    }
   ],
   "source": [
    "#Modo de escrever o IF é assim: \n",
    "if(condição):\n",
    "    comando 1\n",
    "    comando 2 \n",
    "    ...\n",
    "    continuação do código"
   ]
  },
  {
   "cell_type": "markdown",
   "metadata": {},
   "source": [
    "O elif pode ser atribuido como uma continuação de código caso aquela condição não seja verdadeira.\n",
    "Ou seja, vc atribui outra condição que nã aquela, e o computador verificar se é verdadeira e executa os conandos desejados.\n",
    "É possível usar mais de 1 elif, seguindo a lógica.\n"
   ]
  },
  {
   "cell_type": "code",
   "execution_count": null,
   "metadata": {},
   "outputs": [],
   "source": [
    "#Modo de escrever o ELIF é assim: \n",
    "elif(condição):\n",
    "    comando 1\n",
    "    comando 2 \n",
    "    ...\n",
    "    continuação do código"
   ]
  },
  {
   "cell_type": "markdown",
   "metadata": {},
   "source": [
    "O else também é opcional, mas diferente do elif, ele engloba tudo que não seja condições antes estabelecidas pelo if e pelo elif e executa os comandos desejados nos casos que as outras condições não sejam verdadeiras. É possivel usar o else apenas com o if com alguns/varios elif."
   ]
  },
  {
   "cell_type": "code",
   "execution_count": null,
   "metadata": {},
   "outputs": [],
   "source": [
    "#Modo de escrever o ELSE é assim: \n",
    "else:\n",
    "    comando 1\n",
    "    comando 2 \n",
    "    ...\n",
    "    continuação do código"
   ]
  },
  {
   "cell_type": "code",
   "execution_count": null,
   "metadata": {},
   "outputs": [
    {
     "name": "stdout",
     "output_type": "stream",
     "text": [
      "-5.0 >= -10.0 >= -15.0\n"
     ]
    }
   ],
   "source": [
    "#Exemplo, usuário vai digitar 3 números a,b,c. Vamos precisar imprimir em ordem crescente, como escrever o código ? Lembrar do uso de float (input())\n",
    "\n",
    "#Escrever o código usando apenas 1 operador de compoaração por condição estabelecida\n",
    "#Escrever o código livremente\n",
    "\n",
    "#as 6 situações possíveis são :\n",
    "\n",
    "#1. a >= b >= c\n",
    "#2. a >= c >= b\n",
    "#3. b >= a >= c\n",
    "#4. b >= c >= a\n",
    "#5. c >= b >= a\n",
    "#6. c >= a >= b\n",
    "\n",
    "a = float(input(f'digite um número'))\n",
    "b = float(input(f'digite outro número'))\n",
    "c = float(input(f'digite outro número'))\n",
    "\n",
    "if a >=b:\n",
    "    if b >= c:\n",
    "        print(f'{a} >= {b} >= {c}')\n",
    "    elif a >= c:\n",
    "        print(f'{a} >= {c} >= {b}')\n",
    "    else:\n",
    "        print(f'{c} >= {a} >= {b}')\n",
    "else:\n",
    "    if a >= c:\n",
    "        print(f'{b} >={a} >= {c}')\n",
    "    elif b >=c:\n",
    "        print(f'{b} >= {c} >= {a}')\n",
    "    else:\n",
    "        print(f'{c} >= {b} >= {a}')\n",
    "\n",
    "\n"
   ]
  },
  {
   "cell_type": "code",
   "execution_count": null,
   "metadata": {},
   "outputs": [
    {
     "name": "stdout",
     "output_type": "stream",
     "text": [
      "94.0 6.0 2.0\n"
     ]
    }
   ],
   "source": [
    "#Livremente\n",
    "\n",
    "a = float(input(f'digite um número'))\n",
    "b = float(input(f'digite outro número'))\n",
    "c = float(input(f'digite outro número'))\n",
    "\n",
    "if a >=b >= c: \n",
    "       print(a,b,c)\n",
    "elif a >= c>= b:\n",
    "        print(a,c,b)  \n",
    "elif b >= a>= c:\n",
    "        print(b,a,c) \n",
    "elif b >= a>= a:\n",
    "        print(b,c,a) \n",
    "elif c >= a>= b:\n",
    "        print(c,a,b) \n",
    "else:\n",
    "        print(c,b,a) \n"
   ]
  },
  {
   "cell_type": "markdown",
   "metadata": {},
   "source": [
    "#Exemplo do quadrado agora aplicando as condicionais"
   ]
  },
  {
   "cell_type": "code",
   "execution_count": null,
   "metadata": {},
   "outputs": [
    {
     "name": "stdout",
     "output_type": "stream",
     "text": [
      "o ponto pertence ao quadrado\n"
     ]
    }
   ],
   "source": [
    "X = float(input(f'adivinhe um valor de ponto no Eixo X'))\n",
    "Y = float(input(f'adivinhe um valor de ponto no Eixo X'))\n",
    "if(0 <= X) and (X <= 1) and (0 <= Y) and (Y <= 1):\n",
    "    print(f'o ponto pertence ao quadrado')\n",
    "else:\n",
    "    print(f'o não ponto pertence ao quadrado')"
   ]
  },
  {
   "cell_type": "markdown",
   "metadata": {},
   "source": [
    "#Considere as aliquotas e deduções e monte um código para calcular imposto de renda a depender so salário mensal\n"
   ]
  },
  {
   "cell_type": "code",
   "execution_count": null,
   "metadata": {},
   "outputs": [
    {
     "name": "stdout",
     "output_type": "stream",
     "text": [
      "O seu imposto de renda mensal é R$ 2690.04\n"
     ]
    }
   ],
   "source": [
    "# Solicitar ao usuário que insira a sua renda mensal\n",
    "renda_mensal = float(input('Digite a sua renda mensal em R$: '))\n",
    "\n",
    "# Definiar faixas mensais e aliquotas correspondentes\n",
    "faixas_de_renda_mensal = [2112.00, 2826.65, 3751.05, 4664.68]\n",
    "aliquotas_mensais = [0.075, 0.15, 0.225, 0.275]\n",
    "deducao_por_faixa = [158.40, 370.40, 651.73, 884.96]\n",
    "\n",
    "#inicializar o imposto de renda\n",
    "imposto_de_renda_mensal = 0\n",
    "\n",
    "#Verificar em qual faixa de renda a pessoa se encontra\n",
    "if renda_mensal <= faixas_de_renda_mensal [0]:\n",
    "    imposto_de_renda_mensal = 0\n",
    "elif renda_mensal <= faixas_de_renda_mensal [1]:\n",
    "    imposto_de_renda_mensal = renda_mensal * aliquotas_mensais[0] - deducao_por_faixa[0]\n",
    "elif renda_mensal <= faixas_de_renda_mensal [2]:\n",
    "    imposto_de_renda_mensal = renda_mensal * aliquotas_mensais[1] - deducao_por_faixa[1]\n",
    "elif renda_mensal <= faixas_de_renda_mensal [3]:\n",
    "    imposto_de_renda_mensal = renda_mensal * aliquotas_mensais[2] - deducao_por_faixa[2]\n",
    "else:\n",
    "    imposto_de_renda_mensal = renda_mensal * aliquotas_mensais[3] - deducao_por_faixa[3]\n",
    "\n",
    "#imprimir o valor mensal do imposto de renda\n",
    "print(f'O seu imposto de renda mensal é R$ {imposto_de_renda_mensal:.2f}')"
   ]
  }
 ],
 "metadata": {
  "kernelspec": {
   "display_name": "Python 3",
   "language": "python",
   "name": "python3"
  },
  "language_info": {
   "codemirror_mode": {
    "name": "ipython",
    "version": 3
   },
   "file_extension": ".py",
   "mimetype": "text/x-python",
   "name": "python",
   "nbconvert_exporter": "python",
   "pygments_lexer": "ipython3",
   "version": "3.11.5"
  },
  "orig_nbformat": 4
 },
 "nbformat": 4,
 "nbformat_minor": 2
}
