{
 "cells": [
  {
   "cell_type": "code",
   "execution_count": null,
   "metadata": {},
   "outputs": [],
   "source": []
  },
  {
   "cell_type": "markdown",
   "metadata": {},
   "source": [
    "## FUNÇÕES\n",
    "# O que é uma função\n",
    "- Criar uma função gera oportunidade de executar um grupo de instruções\n",
    "\n",
    "- Nossa primeira função"
   ]
  },
  {
   "cell_type": "code",
   "execution_count": 95,
   "metadata": {},
   "outputs": [],
   "source": [
    "def frase_cinema():\n",
    "    print('Que a força esteja com você!')"
   ]
  },
  {
   "cell_type": "code",
   "execution_count": 96,
   "metadata": {},
   "outputs": [
    {
     "name": "stdout",
     "output_type": "stream",
     "text": [
      "Que a força esteja com você!\n"
     ]
    }
   ],
   "source": [
    "frase_cinema()"
   ]
  },
  {
   "cell_type": "markdown",
   "metadata": {},
   "source": [
    "- Vamos criar uma função que tenham argumentos (variávei)"
   ]
  },
  {
   "cell_type": "code",
   "execution_count": 97,
   "metadata": {},
   "outputs": [
    {
     "name": "stdout",
     "output_type": "stream",
     "text": [
      "Olá Maria! Você é de Paris?\n"
     ]
    }
   ],
   "source": [
    "\n",
    "def funcao(nome,lugar):\n",
    "    print(f\"Olá {nome}! Você é de {lugar}?\")\n",
    "\n",
    "funcao(\"Maria\", \"Paris\")"
   ]
  },
  {
   "cell_type": "code",
   "execution_count": 98,
   "metadata": {},
   "outputs": [
    {
     "name": "stdout",
     "output_type": "stream",
     "text": [
      "Olá São Paulo! Você é de Fernando?\n"
     ]
    }
   ],
   "source": [
    "#O que acontece se você especificar o LOCAL primeiro e depois o NOME ? Vamos descobrir:\n",
    "\n",
    "funcao(\"São Paulo\", \"Fernando\")\n",
    "       "
   ]
  },
  {
   "cell_type": "code",
   "execution_count": 99,
   "metadata": {},
   "outputs": [
    {
     "name": "stdout",
     "output_type": "stream",
     "text": [
      "Olá Fernando! Você é de São Paulo?\n"
     ]
    }
   ],
   "source": [
    "# Temos o chamado argumento posicional, ou seja quem vai assumir que ele é o primeiro argumento.\n",
    "\n",
    "funcao(lugar=\"São Paulo\", nome=\"Fernando\")"
   ]
  },
  {
   "cell_type": "code",
   "execution_count": 100,
   "metadata": {},
   "outputs": [],
   "source": [
    "#Especificando um subconjunto de argumentos\n",
    "\n",
    "def viagem_para_dois(custo=1000):\n",
    "    total = custo * 2\n",
    "    total = round(total,2)\n",
    "    print(f\"O total que será gasto na viagem é {total}\")\n",
    "\n"
   ]
  },
  {
   "cell_type": "code",
   "execution_count": 101,
   "metadata": {},
   "outputs": [
    {
     "name": "stdout",
     "output_type": "stream",
     "text": [
      "O total que será gasto na viagem é 10000\n"
     ]
    }
   ],
   "source": [
    "viagem_para_dois(5000)"
   ]
  },
  {
   "cell_type": "markdown",
   "metadata": {},
   "source": [
    "-Elementos dentro da função : execução condicional\n",
    "\n"
   ]
  },
  {
   "cell_type": "code",
   "execution_count": 102,
   "metadata": {},
   "outputs": [
    {
     "data": {
      "text/plain": [
       "True"
      ]
     },
     "execution_count": 102,
     "metadata": {},
     "output_type": "execute_result"
    }
   ],
   "source": [
    "def divisivel(x,y):\n",
    "    if x % y == 0:\n",
    "        return True\n",
    "    else:\n",
    "        return False\n",
    "    \n",
    "divisivel(4, 4)"
   ]
  },
  {
   "cell_type": "markdown",
   "metadata": {},
   "source": [
    "- Aplicação de média aritmética"
   ]
  },
  {
   "cell_type": "code",
   "execution_count": 103,
   "metadata": {},
   "outputs": [
    {
     "name": "stdout",
     "output_type": "stream",
     "text": [
      "A média é: 2.0\n",
      "A média é: 6.0\n",
      "A média é: 12.0\n",
      "A média é: 20.0\n",
      "A média é: 30.0\n"
     ]
    }
   ],
   "source": [
    "def calcular_media(nums):\n",
    "     total = 0\n",
    "     for num in nums:\n",
    "        total += num\n",
    "\n",
    "        media = total / len(nums)\n",
    "        print(\"A média é:\", media)\n",
    "\n",
    "numeros = [10, 20, 30, 40, 50]\n",
    "calcular_media(numeros)\n",
    "\n"
   ]
  },
  {
   "cell_type": "markdown",
   "metadata": {},
   "source": [
    "- Expectativa de vida de váriáveis dentro da função\n"
   ]
  },
  {
   "cell_type": "code",
   "execution_count": 104,
   "metadata": {},
   "outputs": [],
   "source": [
    "def concatena(str1, str2):\n",
    "    texto_concatenado = str1 + ' ' + str2\n",
    "\n",
    "texto1 = 'Que a força esteja com você,'\n",
    "texto2 = 'Jovem Panda'\n",
    "\n",
    "concatena(texto1,texto2)"
   ]
  },
  {
   "cell_type": "code",
   "execution_count": 105,
   "metadata": {},
   "outputs": [
    {
     "ename": "NameError",
     "evalue": "name 'texto_concatenado' is not defined",
     "output_type": "error",
     "traceback": [
      "\u001b[1;31m---------------------------------------------------------------------------\u001b[0m",
      "\u001b[1;31mNameError\u001b[0m                                 Traceback (most recent call last)",
      "\u001b[1;32mUntitled-1.ipynb Célula 17\u001b[0m line \u001b[0;36m1\n\u001b[1;32m----> <a href='vscode-notebook-cell:Untitled-1.ipynb?jupyter-notebook#X25sdW50aXRsZWQ%3D?line=0'>1</a>\u001b[0m \u001b[39mprint\u001b[39m(texto_concatenado)\n",
      "\u001b[1;31mNameError\u001b[0m: name 'texto_concatenado' is not defined"
     ]
    }
   ],
   "source": [
    "print(texto_concatenado)"
   ]
  },
  {
   "cell_type": "markdown",
   "metadata": {},
   "source": [
    "- Aplicação cálculo c a média aritmética "
   ]
  },
  {
   "cell_type": "code",
   "execution_count": null,
   "metadata": {},
   "outputs": [
    {
     "name": "stdout",
     "output_type": "stream",
     "text": [
      "A média é: 2.0\n"
     ]
    }
   ],
   "source": [
    "def calcular_media(nums):\n",
    "     total = 0\n",
    "     for num in nums:\n",
    "        total += num\n",
    "\n",
    "        media = total / len(nums)\n",
    "        return media\n",
    "\n",
    "numeros = [10, 20, 30, 40, 50]\n",
    "media = calcular_media(numeros)\n",
    "print('A média é:', media)\n"
   ]
  },
  {
   "cell_type": "code",
   "execution_count": null,
   "metadata": {},
   "outputs": [
    {
     "name": "stdout",
     "output_type": "stream",
     "text": [
      "4.0\n"
     ]
    }
   ],
   "source": [
    "print(media * 2)"
   ]
  },
  {
   "cell_type": "markdown",
   "metadata": {},
   "source": [
    "# Documentação"
   ]
  },
  {
   "cell_type": "code",
   "execution_count": 113,
   "metadata": {},
   "outputs": [],
   "source": [
    "def imprime_tipo(x):\n",
    "    '''\n",
    "    Função simples que define o tipo de objeto recebido como argumento.\n",
    "    '''\n",
    "    print(type(x))\n"
   ]
  },
  {
   "cell_type": "code",
   "execution_count": 114,
   "metadata": {},
   "outputs": [
    {
     "name": "stdout",
     "output_type": "stream",
     "text": [
      "\n",
      "    Função simples que define o tipo de objeto recebido como argumento.\n",
      "    \n"
     ]
    }
   ],
   "source": [
    "print(imprime_tipo.__doc__)"
   ]
  },
  {
   "cell_type": "code",
   "execution_count": 115,
   "metadata": {},
   "outputs": [
    {
     "name": "stdout",
     "output_type": "stream",
     "text": [
      "Return the number of items in a container.\n"
     ]
    }
   ],
   "source": [
    "# Isso vale para funções nativas em outros pacotes do Python\n",
    "\n",
    "# documentação da função nativa len\n",
    "\n",
    "print(len.__doc__)"
   ]
  },
  {
   "cell_type": "code",
   "execution_count": 117,
   "metadata": {},
   "outputs": [
    {
     "name": "stdout",
     "output_type": "stream",
     "text": [
      "time() -> floating point number\n",
      "\n",
      "Return the current time in seconds since the Epoch.\n",
      "Fractions of a second may be present if the system clock provides them.\n"
     ]
    }
   ],
   "source": [
    "import time\n",
    "\n",
    "# documentação da função time() dentro do pacote time.\n",
    "\n",
    "print(time.time.__doc__)"
   ]
  },
  {
   "cell_type": "code",
   "execution_count": 120,
   "metadata": {},
   "outputs": [],
   "source": [
    "# argumentos arbitrários\n",
    "\n",
    "def soma_argumentos(*args):\n",
    "    sum = 0\n",
    "    for arg in args:\n",
    "        sum += arg\n",
    "    print(f'A soma dos numeros inseridos é de {sum}')"
   ]
  },
  {
   "cell_type": "code",
   "execution_count": 122,
   "metadata": {},
   "outputs": [
    {
     "name": "stdout",
     "output_type": "stream",
     "text": [
      "A soma dos numeros inseridos é de 186\n",
      "A soma dos numeros inseridos é de 286\n"
     ]
    }
   ],
   "source": [
    "soma_argumentos(99,10,54,23)\n",
    "soma_argumentos(99,10,54,123)"
   ]
  }
 ],
 "metadata": {
  "kernelspec": {
   "display_name": "Python 3",
   "language": "python",
   "name": "python3"
  },
  "language_info": {
   "codemirror_mode": {
    "name": "ipython",
    "version": 3
   },
   "file_extension": ".py",
   "mimetype": "text/x-python",
   "name": "python",
   "nbconvert_exporter": "python",
   "pygments_lexer": "ipython3",
   "version": "3.11.5"
  }
 },
 "nbformat": 4,
 "nbformat_minor": 2
}
