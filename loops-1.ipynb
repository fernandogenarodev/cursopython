{
 "cells": [
  {
   "cell_type": "markdown",
   "metadata": {},
   "source": [
    "#LOOPS\n",
    "\n",
    "São estruturas de repetição para ser executado códigos repetidamenteo.."
   ]
  },
  {
   "cell_type": "code",
   "execution_count": 48,
   "metadata": {},
   "outputs": [
    {
     "name": "stdout",
     "output_type": "stream",
     "text": [
      "0\n",
      "1\n",
      "2\n",
      "3\n",
      "4\n",
      "5\n"
     ]
    }
   ],
   "source": [
    "# Print de numeros de 0 á 5\n",
    "\n",
    "print(0)\n",
    "print(1)\n",
    "print(2)\n",
    "print(3)\n",
    "print(4)\n",
    "print(5)"
   ]
  },
  {
   "cell_type": "code",
   "execution_count": 49,
   "metadata": {},
   "outputs": [
    {
     "name": "stdout",
     "output_type": "stream",
     "text": [
      "0\n",
      "1\n",
      "2\n",
      "3\n",
      "4\n",
      "5\n"
     ]
    }
   ],
   "source": [
    "# Print de numeros de 0 á 5 com While\n",
    "contador = 0\n",
    "while contador < 6:\n",
    "    print(contador)\n",
    "    contador = contador + 1\n"
   ]
  },
  {
   "cell_type": "code",
   "execution_count": 50,
   "metadata": {},
   "outputs": [
    {
     "name": "stdout",
     "output_type": "stream",
     "text": [
      "0\n",
      "1\n",
      "2\n",
      "3\n",
      "4\n",
      "5\n"
     ]
    }
   ],
   "source": [
    "# Print de numeros de 0 á 5 com FOR\n",
    "num = [0, 1, 2, 3, 4, 5]\n",
    "for numero in num:\n",
    "    print(numero)\n",
    "\n"
   ]
  },
  {
   "cell_type": "code",
   "execution_count": 51,
   "metadata": {},
   "outputs": [
    {
     "name": "stdout",
     "output_type": "stream",
     "text": [
      "Que pena\n"
     ]
    }
   ],
   "source": [
    "# Pegar input de usuário (while infinito + break)\n",
    "while True:\n",
    "    resposta = input('Voce está gostando do curso?').lower()\n",
    "    if resposta in ['sim', 's']:\n",
    "        print('Que ótimo')\n",
    "        break\n",
    "    elif resposta in ['não', 'nao', 'n']:\n",
    "        print('Que pena')\n",
    "        break\n"
   ]
  },
  {
   "cell_type": "markdown",
   "metadata": {},
   "source": []
  },
  {
   "cell_type": "markdown",
   "metadata": {},
   "source": []
  },
  {
   "cell_type": "code",
   "execution_count": 52,
   "metadata": {},
   "outputs": [
    {
     "name": "stdout",
     "output_type": "stream",
     "text": [
      "1\n",
      "3\n",
      "5\n",
      "7\n",
      "9\n"
     ]
    }
   ],
   "source": [
    "# range() de 2 em 2\n",
    "for numero in  range(1, 10, 2):\n",
    "    print(numero)"
   ]
  },
  {
   "cell_type": "code",
   "execution_count": 53,
   "metadata": {},
   "outputs": [
    {
     "name": "stdout",
     "output_type": "stream",
     "text": [
      "1\n",
      "2\n",
      "3\n",
      "4\n",
      "5\n"
     ]
    }
   ],
   "source": [
    "# range() de 2 em 2\n",
    "for numero in  range(1, 6):\n",
    "    print(numero)"
   ]
  },
  {
   "cell_type": "code",
   "execution_count": 54,
   "metadata": {},
   "outputs": [
    {
     "name": "stdout",
     "output_type": "stream",
     "text": [
      "Meu nome é Alice e tenho 25 anos\n",
      "Meu nome é Fabiana e tenho 45 anos\n",
      "Meu nome é Bob e tenho 10 anos\n"
     ]
    }
   ],
   "source": [
    "#ZIP \n",
    "nomes = ['Alice', 'Fabiana', 'Bob']\n",
    "idades = [25, 45, 10]\n",
    "for nome, idade in zip(nomes, idades):\n",
    "    print(f\"Meu nome é {nome} e tenho {idade} anos\")"
   ]
  },
  {
   "cell_type": "code",
   "execution_count": 55,
   "metadata": {},
   "outputs": [
    {
     "name": "stdout",
     "output_type": "stream",
     "text": [
      "Alice 25\n",
      "Fabiana 45\n",
      "Bob 10\n"
     ]
    }
   ],
   "source": [
    "#iterar um dicionario {key: value}\n",
    "pessoas = dict(zip(nomes,idades))\n",
    "\n",
    "for chave in pessoas:\n",
    "    print(chave, pessoas[chave])"
   ]
  },
  {
   "cell_type": "code",
   "execution_count": 56,
   "metadata": {},
   "outputs": [
    {
     "name": "stdout",
     "output_type": "stream",
     "text": [
      "(0, 'maça')\n",
      "(1, 'banana')\n",
      "(2, 'laranja')\n"
     ]
    }
   ],
   "source": [
    "#enumerate\n",
    "\n",
    "frutas = ['maça', 'banana', 'laranja']\n",
    "\n",
    "for indice in enumerate(frutas):\n",
    "    print(indice)"
   ]
  },
  {
   "cell_type": "code",
   "execution_count": 57,
   "metadata": {},
   "outputs": [
    {
     "name": "stdout",
     "output_type": "stream",
     "text": [
      "0\n",
      "1\n",
      "2\n",
      "3\n",
      "4\n",
      "5\n"
     ]
    }
   ],
   "source": [
    "#set\n",
    "nums = [0, 1, 1, 2, 3, 4, 4, 4, 5]\n",
    "for num in set(nums):\n",
    "    print(num)"
   ]
  },
  {
   "cell_type": "markdown",
   "metadata": {},
   "source": [
    "#Desafio:: Fazer uma piramide com # e com input de usuários\n",
    "\n",
    "#Exemplo de outputs::\n",
    "\n",
    "  #\n",
    " ##\n",
    "### \n",
    "\n",
    "1 célula oculta\n",
    "\n"
   ]
  },
  {
   "cell_type": "code",
   "execution_count": 58,
   "metadata": {},
   "outputs": [
    {
     "name": "stdout",
     "output_type": "stream",
     "text": [
      "         #\n",
      "        ##\n",
      "       ###\n",
      "      ####\n",
      "     #####\n",
      "    ######\n",
      "   #######\n",
      "  ########\n",
      " #########\n",
      "##########\n"
     ]
    }
   ],
   "source": [
    "x = int(input(\"Tamanha piramide\"))\n",
    "for i in range(1, x + 1):\n",
    "    x -=1\n",
    "    print(\" \" * x, end=\"\")\n",
    "    print(\"#\" * i)"
   ]
  },
  {
   "cell_type": "code",
   "execution_count": 59,
   "metadata": {},
   "outputs": [
    {
     "name": "stdout",
     "output_type": "stream",
     "text": [
      "         # #         \n",
      "        ## ##        \n",
      "       ### ###       \n",
      "      #### ####      \n",
      "     ##### #####     \n",
      "    ###### ######    \n",
      "   ####### #######   \n",
      "  ######## ########  \n",
      " ######### ######### \n",
      "########## ##########\n"
     ]
    }
   ],
   "source": [
    "x = int(input(\"Tamanha piramide\"))\n",
    "for i in range(1, x + 1):\n",
    "    x -=1\n",
    "    print(\" \" * x, end=\"\")\n",
    "    print(\"#\" * i, end=\"\")\n",
    "    print(\" \", end=\"\")\n",
    "    print(\"#\" * i, end=\"\")\n",
    "    print(\" \" * x)"
   ]
  }
 ],
 "metadata": {
  "kernelspec": {
   "display_name": "Python 3",
   "language": "python",
   "name": "python3"
  },
  "language_info": {
   "codemirror_mode": {
    "name": "ipython",
    "version": 3
   },
   "file_extension": ".py",
   "mimetype": "text/x-python",
   "name": "python",
   "nbconvert_exporter": "python",
   "pygments_lexer": "ipython3",
   "version": "3.11.5"
  },
  "orig_nbformat": 4
 },
 "nbformat": 4,
 "nbformat_minor": 2
}
